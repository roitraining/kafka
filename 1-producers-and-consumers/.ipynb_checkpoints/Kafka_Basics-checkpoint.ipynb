{
 "cells": [
  {
   "cell_type": "markdown",
   "metadata": {},
   "source": [
    "## Show a list of topics from the shell"
   ]
  },
  {
   "cell_type": "code",
   "execution_count": 1,
   "metadata": {},
   "outputs": [
    {
     "name": "stdout",
     "output_type": "stream",
     "text": [
      "__consumer_offsets\n",
      "avro-stocks\n",
      "classroom\n",
      "connect-configs\n",
      "connect-offsets\n",
      "connect-status\n",
      "stocks-avro\n",
      "stocks-json\n",
      "topic1\n",
      "words\n"
     ]
    }
   ],
   "source": [
    "! kafka-topics.sh --list --bootstrap-server localhost:9092"
   ]
  },
  {
   "cell_type": "markdown",
   "metadata": {},
   "source": [
    "## Show a list of topics using python. First make sure the right package is installed. It's already on this machine though."
   ]
  },
  {
   "cell_type": "code",
   "execution_count": null,
   "metadata": {},
   "outputs": [],
   "source": [
    "! pip install kafka-python"
   ]
  },
  {
   "cell_type": "code",
   "execution_count": 4,
   "metadata": {},
   "outputs": [
    {
     "data": {
      "text/plain": [
       "{'avro-stocks',\n",
       " 'classroom',\n",
       " 'connect-configs',\n",
       " 'connect-offsets',\n",
       " 'connect-status',\n",
       " 'stocks-avro',\n",
       " 'stocks-json',\n",
       " 'test',\n",
       " 'topic1',\n",
       " 'words'}"
      ]
     },
     "execution_count": 4,
     "metadata": {},
     "output_type": "execute_result"
    }
   ],
   "source": [
    "from kafka import KafkaConsumer\n",
    "consumer = KafkaConsumer(group_id='test', bootstrap_servers=[\"localhost:9092\"])\n",
    "consumer.topics()"
   ]
  },
  {
   "cell_type": "markdown",
   "metadata": {},
   "source": [
    "## To create a topic from the shell"
   ]
  },
  {
   "cell_type": "code",
   "execution_count": 9,
   "metadata": {},
   "outputs": [
    {
     "name": "stdout",
     "output_type": "stream",
     "text": [
      "Created topic test.\n",
      "__consumer_offsets\n",
      "avro-stocks\n",
      "classroom\n",
      "connect-configs\n",
      "connect-offsets\n",
      "connect-status\n",
      "stocks-avro\n",
      "stocks-json\n",
      "test\n",
      "topic1\n",
      "words\n"
     ]
    }
   ],
   "source": [
    "! kafka-topics.sh --create \\\n",
    "                 --topic test \\\n",
    "                 --bootstrap-server localhost:9092\n",
    "! kafka-topics.sh --list --bootstrap-server localhost:9092"
   ]
  },
  {
   "cell_type": "markdown",
   "metadata": {},
   "source": [
    "## Delete a topic from the shell"
   ]
  },
  {
   "cell_type": "code",
   "execution_count": 13,
   "metadata": {},
   "outputs": [
    {
     "name": "stdout",
     "output_type": "stream",
     "text": [
      "__consumer_offsets\n",
      "avro-stocks\n",
      "classroom\n",
      "connect-configs\n",
      "connect-offsets\n",
      "connect-status\n",
      "stocks-avro\n",
      "stocks-json\n",
      "topic1\n",
      "words\n"
     ]
    }
   ],
   "source": [
    "! kafka-topics.sh --delete \\\n",
    "                 --topic test \\\n",
    "                 --bootstrap-server localhost:9092\n",
    "! kafka-topics.sh --list --bootstrap-server localhost:9092"
   ]
  },
  {
   "cell_type": "markdown",
   "metadata": {},
   "source": [
    "## Create a topic using python."
   ]
  },
  {
   "cell_type": "code",
   "execution_count": 14,
   "metadata": {},
   "outputs": [
    {
     "data": {
      "text/plain": [
       "{'avro-stocks',\n",
       " 'classroom',\n",
       " 'connect-configs',\n",
       " 'connect-offsets',\n",
       " 'connect-status',\n",
       " 'stocks-avro',\n",
       " 'stocks-json',\n",
       " 'test',\n",
       " 'topic1',\n",
       " 'words'}"
      ]
     },
     "execution_count": 14,
     "metadata": {},
     "output_type": "execute_result"
    }
   ],
   "source": [
    "from kafka import KafkaConsumer\n",
    "from kafka.admin import KafkaAdminClient, NewTopic\n",
    "\n",
    "admin_client = KafkaAdminClient(\n",
    "    bootstrap_servers=\"localhost:9092\", \n",
    "    client_id='test'\n",
    ")\n",
    "\n",
    "topic_list = [NewTopic(name=\"test\", num_partitions=1, replication_factor=1)]\n",
    "admin_client.create_topics(new_topics=topic_list, validate_only=False)\n",
    "\n",
    "consumer = KafkaConsumer(group_id='test', bootstrap_servers=[\"localhost:9092\"])\n",
    "consumer.topics()"
   ]
  },
  {
   "cell_type": "markdown",
   "metadata": {},
   "source": [
    "## Delete a topic using Python."
   ]
  },
  {
   "cell_type": "code",
   "execution_count": 17,
   "metadata": {},
   "outputs": [
    {
     "data": {
      "text/plain": [
       "{'avro-stocks',\n",
       " 'classroom',\n",
       " 'connect-configs',\n",
       " 'connect-offsets',\n",
       " 'connect-status',\n",
       " 'stocks-avro',\n",
       " 'stocks-json',\n",
       " 'topic1',\n",
       " 'words'}"
      ]
     },
     "execution_count": 17,
     "metadata": {},
     "output_type": "execute_result"
    }
   ],
   "source": [
    "from kafka import KafkaConsumer\n",
    "from kafka.admin import KafkaAdminClient\n",
    "\n",
    "admin_client = KafkaAdminClient(\n",
    "    bootstrap_servers=\"localhost:9092\", \n",
    "    client_id='test'\n",
    ")\n",
    "admin_client.delete_topics(['test'])\n",
    "\n",
    "consumer = KafkaConsumer(group_id='test', bootstrap_servers=[\"localhost:9092\"])\n",
    "consumer.topics()"
   ]
  },
  {
   "cell_type": "code",
   "execution_count": 3,
   "metadata": {},
   "outputs": [],
   "source": [
    "from kafka import KafkaProducer"
   ]
  },
  {
   "cell_type": "code",
   "execution_count": 4,
   "metadata": {},
   "outputs": [],
   "source": [
    "producer = KafkaProducer(bootstrap_servers=\"localhost:9092\")"
   ]
  },
  {
   "cell_type": "code",
   "execution_count": 5,
   "metadata": {},
   "outputs": [
    {
     "name": "stdout",
     "output_type": "stream",
     "text": [
      "producer =  <kafka.producer.kafka.KafkaProducer object at 0x7fd058699400>\n"
     ]
    }
   ],
   "source": [
    "print(\"producer = \", producer)"
   ]
  },
  {
   "cell_type": "code",
   "execution_count": 6,
   "metadata": {},
   "outputs": [
    {
     "name": "stdout",
     "output_type": "stream",
     "text": [
      "python_test\n"
     ]
    }
   ],
   "source": [
    "!kafka-topics.sh --list --bootstrap-server localhost:9092"
   ]
  },
  {
   "cell_type": "code",
   "execution_count": 7,
   "metadata": {},
   "outputs": [],
   "source": [
    "topic = 'python_test'\n",
    "for i in range(100):\n",
    "    event = f'This is an event {i}'\n",
    "    producer.send(topic, bytes(event, 'utf-8'))"
   ]
  }
 ],
 "metadata": {
  "kernelspec": {
   "display_name": "Python 3 (ipykernel)",
   "language": "python",
   "name": "python3"
  },
  "language_info": {
   "codemirror_mode": {
    "name": "ipython",
    "version": 3
   },
   "file_extension": ".py",
   "mimetype": "text/x-python",
   "name": "python",
   "nbconvert_exporter": "python",
   "pygments_lexer": "ipython3",
   "version": "3.7.5"
  }
 },
 "nbformat": 4,
 "nbformat_minor": 4
}
