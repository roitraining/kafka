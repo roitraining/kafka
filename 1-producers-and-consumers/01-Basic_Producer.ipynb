{
 "cells": [
  {
   "cell_type": "markdown",
   "metadata": {},
   "source": [
    "## Show a list of topics from the shell."
   ]
  },
  {
   "cell_type": "code",
   "execution_count": null,
   "metadata": {},
   "outputs": [],
   "source": [
    "! kafka-topics.sh --list --bootstrap-server localhost:9092"
   ]
  },
  {
   "cell_type": "markdown",
   "metadata": {},
   "source": [
    "## Show a list of topics using Python. First, make sure the correct package is installed. It's already on this machine though."
   ]
  },
  {
   "cell_type": "code",
   "execution_count": null,
   "metadata": {},
   "outputs": [],
   "source": [
    "! pip install kafka-python"
   ]
  },
  {
   "cell_type": "code",
   "execution_count": null,
   "metadata": {},
   "outputs": [],
   "source": [
    "from kafka import KafkaConsumer\n",
    "consumer = KafkaConsumer(group_id='test', bootstrap_servers=[\"localhost:9092\"])\n",
    "consumer.topics()"
   ]
  },
  {
   "cell_type": "markdown",
   "metadata": {},
   "source": [
    "## To create a topic from the shell:"
   ]
  },
  {
   "cell_type": "code",
   "execution_count": null,
   "metadata": {},
   "outputs": [],
   "source": [
    "! kafka-topics.sh --create \\\n",
    "                 --topic test \\\n",
    "                 --bootstrap-server localhost:9092\n",
    "! kafka-topics.sh --list --bootstrap-server localhost:9092"
   ]
  },
  {
   "cell_type": "markdown",
   "metadata": {},
   "source": [
    "## Delete a topic from the shell."
   ]
  },
  {
   "cell_type": "code",
   "execution_count": null,
   "metadata": {},
   "outputs": [],
   "source": [
    "! kafka-topics.sh --delete \\\n",
    "                 --topic test \\\n",
    "                 --bootstrap-server localhost:9092\n",
    "! kafka-topics.sh --list --bootstrap-server localhost:9092"
   ]
  },
  {
   "cell_type": "markdown",
   "metadata": {},
   "source": [
    "## Create a topic using Python."
   ]
  },
  {
   "cell_type": "code",
   "execution_count": null,
   "metadata": {},
   "outputs": [],
   "source": [
    "from kafka import KafkaConsumer\n",
    "from kafka.admin import KafkaAdminClient, NewTopic\n",
    "\n",
    "admin_client = KafkaAdminClient(\n",
    "    bootstrap_servers=\"localhost:9092\", \n",
    "    client_id='test'\n",
    ")\n",
    "\n",
    "topic_list = [NewTopic(name=\"test\", num_partitions=1, replication_factor=1)]\n",
    "admin_client.create_topics(new_topics=topic_list, validate_only=False)\n",
    "\n",
    "consumer = KafkaConsumer(group_id='test', bootstrap_servers=[\"localhost:9092\"])\n",
    "consumer.topics()"
   ]
  },
  {
   "cell_type": "markdown",
   "metadata": {},
   "source": [
    "## Can change the number of partitions for a topic"
   ]
  },
  {
   "cell_type": "code",
   "execution_count": null,
   "metadata": {},
   "outputs": [],
   "source": [
    "! kafka-topics.sh --bootstrap-server localhost:9092 --alter --topic test --partitions 1\n"
   ]
  },
  {
   "cell_type": "markdown",
   "metadata": {},
   "source": [
    "## Check the details on a topic"
   ]
  },
  {
   "cell_type": "code",
   "execution_count": 1,
   "metadata": {},
   "outputs": [
    {
     "name": "stdout",
     "output_type": "stream",
     "text": [
      "Topic: test\tTopicId: iSeviL1cSaatTwogwnydew\tPartitionCount: 3\tReplicationFactor: 1\tConfigs: segment.bytes=1073741824\n",
      "\tTopic: test\tPartition: 0\tLeader: 0\tReplicas: 0\tIsr: 0\n",
      "\tTopic: test\tPartition: 1\tLeader: 0\tReplicas: 0\tIsr: 0\n",
      "\tTopic: test\tPartition: 2\tLeader: 0\tReplicas: 0\tIsr: 0\n"
     ]
    }
   ],
   "source": [
    "! kafka-topics.sh --bootstrap-server localhost:9092 --describe --topic test"
   ]
  },
  {
   "cell_type": "markdown",
   "metadata": {},
   "source": [
    "## Delete a topic using Python."
   ]
  },
  {
   "cell_type": "code",
   "execution_count": null,
   "metadata": {},
   "outputs": [],
   "source": [
    "from kafka import KafkaConsumer\n",
    "from kafka.admin import KafkaAdminClient\n",
    "\n",
    "admin_client = KafkaAdminClient(\n",
    "    bootstrap_servers=\"localhost:9092\", \n",
    "    client_id='test'\n",
    ")\n",
    "admin_client.delete_topics(['test'])\n",
    "\n",
    "consumer = KafkaConsumer(group_id='test', bootstrap_servers=[\"localhost:9092\"])\n",
    "consumer.topics()"
   ]
  },
  {
   "cell_type": "markdown",
   "metadata": {},
   "source": [
    "## Re-run the code to create a topic called test, then produce messages. Note they must be converted to bytes."
   ]
  },
  {
   "cell_type": "code",
   "execution_count": 3,
   "metadata": {},
   "outputs": [],
   "source": [
    "producer = KafkaProducer(bootstrap_servers=\"localhost:9092\")"
   ]
  },
  {
   "cell_type": "code",
   "execution_count": 4,
   "metadata": {},
   "outputs": [
    {
     "name": "stdout",
     "output_type": "stream",
     "text": [
      "producer =  <kafka.producer.kafka.KafkaProducer object at 0x7f506a1d9e90>\n"
     ]
    }
   ],
   "source": [
    "print(\"producer = \", producer)"
   ]
  },
  {
   "cell_type": "code",
   "execution_count": 5,
   "metadata": {},
   "outputs": [
    {
     "name": "stdout",
     "output_type": "stream",
     "text": [
      "__consumer_offsets\n",
      "avro-stocks\n",
      "classroom\n",
      "connect-configs\n",
      "connect-offsets\n",
      "connect-status\n",
      "python_test\n",
      "stocks-avro\n",
      "stocks-json\n",
      "test\n",
      "topic1\n",
      "words\n"
     ]
    }
   ],
   "source": [
    "! kafka-topics.sh --list --bootstrap-server localhost:9092"
   ]
  },
  {
   "cell_type": "code",
   "execution_count": null,
   "metadata": {},
   "outputs": [],
   "source": [
    "topic = 'test'\n",
    "for i in range(100):\n",
    "    event = f'This is an event {i}'\n",
    "    producer.send(topic, bytes(event, 'utf-8'))"
   ]
  },
  {
   "cell_type": "code",
   "execution_count": 23,
   "metadata": {},
   "outputs": [
    {
     "name": "stdout",
     "output_type": "stream",
     "text": [
      "producer =  <kafka.producer.kafka.KafkaProducer object at 0x7f506a19f150>\n"
     ]
    }
   ],
   "source": [
    "from kafka import KafkaProducer\n",
    "producer = KafkaProducer(bootstrap_servers=\"localhost:9092\")\n",
    "print(\"producer = \", producer)\n",
    "topic = 'test'\n",
    "for i in range(10):\n",
    "    event = f'This is an event {i}'\n",
    "    producer.send(topic, bytes(event, 'utf-8'))"
   ]
  },
  {
   "cell_type": "code",
   "execution_count": null,
   "metadata": {},
   "outputs": [],
   "source": []
  }
 ],
 "metadata": {
  "kernelspec": {
   "display_name": "Python 3",
   "language": "python",
   "name": "python3"
  },
  "language_info": {
   "codemirror_mode": {
    "name": "ipython",
    "version": 3
   },
   "file_extension": ".py",
   "mimetype": "text/x-python",
   "name": "python",
   "nbconvert_exporter": "python",
   "pygments_lexer": "ipython3",
   "version": "3.7.5"
  }
 },
 "nbformat": 4,
 "nbformat_minor": 4
}
