{
 "cells": [
  {
   "cell_type": "markdown",
   "id": "2da4cc82",
   "metadata": {
    "jp-MarkdownHeadingCollapsed": true,
    "tags": []
   },
   "source": [
    "# <img src=\"cassandra_logo.png\" width=100 height=50 /><font color='cadetblue' size=\"+2\"></font>"
   ]
  },
  {
   "cell_type": "markdown",
   "id": "cf1361d6-cd85-49b8-8d35-357baac8bb69",
   "metadata": {},
   "source": [
    "## Let's do a simple test of reading and writing to cassandra to see if it works with Spark"
   ]
  },
  {
   "cell_type": "code",
   "execution_count": null,
   "id": "d6c99f49-50cc-4a8c-b8bf-3d0a68e7a89f",
   "metadata": {},
   "outputs": [],
   "source": [
    "# pip install cassandra-driver\n",
    "# pyspark --packages com.datastax.spark:spark-cassandra-connector_2.11:2.4.1\n",
    "\n",
    "import os\n",
    "from cassandra.cluster import Cluster\n",
    "from cassandra.auth import PlainTextAuthProvider\n",
    "\n",
    "#CASSANDRA_HOST = 'localhost'\n",
    "CASSANDRA_HOST = '127.0.0.1'\n",
    "CASSANDRA_USER = 'cassandra'\n",
    "CASSANDRA_PASSWORD = 'student'\n",
    "\n",
    "ap = PlainTextAuthProvider(username=CASSANDRA_USER, password=CASSANDRA_PASSWORD)\n",
    "cluster = Cluster([CASSANDRA_HOST], auth_provider = ap)\n",
    "cluster.connect()\n",
    "\n",
    "import sys\n",
    "sys.path.append('/class')\n",
    "os.environ['PYSPARK_PYTHON'] = '/usr/bin/python3'\n",
    "os.environ['PYSPARK_DRIVER_PYTHON'] = '/usr/bin/python3'\n",
    "sys.path.append('/class')\n",
    "\n",
    "if 'sc' not in locals():\n",
    "    from initspark import initspark\n",
    "    sc, spark, conf = initspark(cassandra = \"127.0.0.1\", cassandra_user = 'cassandra'\n",
    "                                , cassandra_password='student', packages = 'cassandra')\n",
    "\n"
   ]
  },
  {
   "cell_type": "markdown",
   "id": "dc6902b1-1a90-4850-a5db-5256f6fdce22",
   "metadata": {},
   "source": [
    "## This is just basic Cassandra directly with Python"
   ]
  },
  {
   "cell_type": "code",
   "execution_count": null,
   "id": "24670d81-a052-4e0e-8307-01a1f4c199b9",
   "metadata": {},
   "outputs": [],
   "source": [
    "\n",
    "session = cluster.connect()\n",
    "session.execute('DROP KEYSPACE IF EXISTS classroom')\n",
    "session.execute(\"CREATE KEYSPACE classroom WITH REPLICATION={'class':'SimpleStrategy', 'replication_factor':'1'}\")\n",
    "session = cluster.connect('classroom')\n",
    "session.execute(\"create table student(id int PRIMARY KEY, firstname text, lastname text, emails set<text>)\")\n",
    "session.execute(\"insert into student (id, firstname, lastname, emails) values (1, 'Joe', 'Smith', {'joes@xyz.com', 'joe.smith@abc.net'})\")\n",
    "session.execute(\"update student set firstname = 'Joseph' where id = 1\")\n",
    "session.execute(\"insert into student (id, firstname, lastname, emails) values (2, 'Mike', 'Jones', {'mikej@xyz.com', 'mike.jones@def.net', 'mike1234@gmail.com'})\")\n",
    "rows = session.execute('SELECT id, firstname, lastname, emails from student')\n",
    "print('*' * 80)\n",
    "print('student rows from cassandra directly')\n",
    "print('*' * 80)\n",
    "print(list(rows))\n",
    "print('*' * 80)\n",
    "\n"
   ]
  },
  {
   "cell_type": "markdown",
   "id": "f3cffc88-bcf5-4875-a7c9-9a25e84694cf",
   "metadata": {},
   "source": [
    "## This uses the Spark Cassandra connector to read and write between a Spark DataFrame and Cassandra"
   ]
  },
  {
   "cell_type": "code",
   "execution_count": null,
   "id": "181776f0-d3ba-42f5-b7d8-5342fd293da5",
   "metadata": {},
   "outputs": [],
   "source": [
    "# Python to access a Cassandra cluster through Spark\n",
    "people = spark.read.format(\"org.apache.spark.sql.cassandra\").options(table=\"student\", keyspace=\"classroom\").load()\n",
    "print('*' * 80)\n",
    "print('student rows from spark before insert')\n",
    "print('*' * 80)\n",
    "people.show()\n",
    "print(people.collect())\n",
    "print('*' * 80)\n",
    "\n",
    "# Append the results of a DataFrame into a Cassandra table\n",
    "x = sc.parallelize([(3, 'Mary', 'Johnson', ['Mary1@gmail.com', 'Mary2@yahoo.com'])])\n",
    "x1 = spark.createDataFrame(x, schema = ['id', 'firstname', 'lastname', 'emails'])\n",
    "x1.write.format(\"org.apache.spark.sql.cassandra\").options(table=\"student\", keyspace=\"classroom\").mode(\"append\").save()\n",
    "\n",
    "people = spark.read.format(\"org.apache.spark.sql.cassandra\").options(table=\"student\", keyspace=\"classroom\").load()\n",
    "print('*' * 80)\n",
    "print('student rows from spark after insert')\n",
    "print('*' * 80)\n",
    "people.show()\n",
    "print(people.collect())\n",
    "print('*' * 80)\n",
    "\n",
    "print('*' * 80)\n",
    "print('spark sql query from cassandra')\n",
    "print('*' * 80)\n",
    "people.createOrReplaceTempView('people')\n",
    "people2 = spark.sql('select id, firstname, lastname, email from people LATERAL VIEW EXPLODE(emails) EXPLODED_TABLE AS email')\n",
    "people2.show()\n",
    "\n",
    "people3 = people2.where(\"email like '%.com'\").orderBy(\"id\")\n",
    "people3.show()\n"
   ]
  },
  {
   "cell_type": "markdown",
   "id": "283bcaf1-9b0d-4acf-9a8b-38d58f822809",
   "metadata": {},
   "source": [
    "## Currently Beam CassandraIO is only supported on Java"
   ]
  },
  {
   "cell_type": "markdown",
   "id": "0358ac4b-aa43-4cc7-bbf4-e5ed6a04d045",
   "metadata": {},
   "source": [
    "# <img src=\"mongo_logo.png\" width=200 height=200 /><font color='cadetblue' size=\"+2\"></font>"
   ]
  },
  {
   "cell_type": "markdown",
   "id": "55ca36f2-5da1-4889-9a7b-e9c4bf8ec15d",
   "metadata": {},
   "source": [
    "# <img src=\"hbase_logo.png\" width=200 height=200 /><font color='cadetblue' size=\"+2\"></font>"
   ]
  },
  {
   "cell_type": "code",
   "execution_count": null,
   "id": "1a5163e6-e8f3-40a4-8505-6a2d3780a5d3",
   "metadata": {},
   "outputs": [],
   "source": []
  }
 ],
 "metadata": {
  "kernelspec": {
   "display_name": "Python 3",
   "language": "python",
   "name": "python3"
  },
  "language_info": {
   "codemirror_mode": {
    "name": "ipython",
    "version": 3
   },
   "file_extension": ".py",
   "mimetype": "text/x-python",
   "name": "python",
   "nbconvert_exporter": "python",
   "pygments_lexer": "ipython3",
   "version": "3.7.5"
  }
 },
 "nbformat": 4,
 "nbformat_minor": 5
}
