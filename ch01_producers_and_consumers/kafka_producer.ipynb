{
 "cells": [
  {
   "cell_type": "markdown",
   "id": "d95b89ba",
   "metadata": {},
   "source": [
    "## View shell scripts for managing Kafka via Docker\n",
    "### The scripts are on the PATH"
   ]
  },
  {
   "cell_type": "code",
   "execution_count": null,
   "id": "9e267030",
   "metadata": {},
   "outputs": [],
   "source": [
    "!ls bin/*.sh"
   ]
  },
  {
   "cell_type": "code",
   "execution_count": null,
   "id": "fa3ba5da",
   "metadata": {},
   "outputs": [],
   "source": [
    "## Start Kafka with one broker and one Zookeeper node"
   ]
  },
  {
   "cell_type": "code",
   "execution_count": null,
   "id": "b093f851",
   "metadata": {},
   "outputs": [],
   "source": []
  },
  {
   "cell_type": "code",
   "execution_count": 13,
   "id": "3f802219",
   "metadata": {},
   "outputs": [
    {
     "name": "stdout",
     "output_type": "stream",
     "text": [
      "connect-distributed.sh\t      kafka-mirror-maker.sh\r\n",
      "connect-mirror-maker.sh       kafka-producer-perf-test.sh\r\n",
      "connect-standalone.sh\t      kafka-reassign-partitions.sh\r\n",
      "kafka-acls.sh\t\t      kafka-replica-verification.sh\r\n",
      "kafka-broker-api-versions.sh  kafka-run-class.sh\r\n",
      "kafka-cluster.sh\t      kafka-server-start.sh\r\n",
      "kafka-configs.sh\t      kafka-server-stop.sh\r\n",
      "kafka-console-consumer.sh     kafka-storage.sh\r\n",
      "kafka-console-producer.sh     kafka-streams-application-reset.sh\r\n",
      "kafka-consumer-groups.sh      kafka-topics.sh\r\n",
      "kafka-consumer-perf-test.sh   kafka-transactions.sh\r\n",
      "kafka-delegation-tokens.sh    kafka-verifiable-consumer.sh\r\n",
      "kafka-delete-records.sh       kafka-verifiable-producer.sh\r\n",
      "kafka-dump-log.sh\t      trogdor.sh\r\n",
      "kafka-features.sh\t      windows\r\n",
      "kafka-get-offsets.sh\t      zookeeper-security-migration.sh\r\n",
      "kafka-leader-election.sh      zookeeper-server-start.sh\r\n",
      "kafka-log-dirs.sh\t      zookeeper-server-stop.sh\r\n",
      "kafka-metadata-shell.sh       zookeeper-shell.sh\r\n"
     ]
    }
   ],
   "source": [
    "!ls $KAFKA_HOME/bin"
   ]
  },
  {
   "cell_type": "code",
   "execution_count": 14,
   "id": "c81b0321",
   "metadata": {},
   "outputs": [
    {
     "name": "stdout",
     "output_type": "stream",
     "text": [
      "quickstart-events\r\n"
     ]
    }
   ],
   "source": [
    "!kafka-topics.sh --list --bootstrap-server localhost:9092"
   ]
  }
 ],
 "metadata": {
  "kernelspec": {
   "display_name": "Python 3 (ipykernel)",
   "language": "python",
   "name": "python3"
  },
  "language_info": {
   "codemirror_mode": {
    "name": "ipython",
    "version": 3
   },
   "file_extension": ".py",
   "mimetype": "text/x-python",
   "name": "python",
   "nbconvert_exporter": "python",
   "pygments_lexer": "ipython3",
   "version": "3.8.10"
  }
 },
 "nbformat": 4,
 "nbformat_minor": 5
}
