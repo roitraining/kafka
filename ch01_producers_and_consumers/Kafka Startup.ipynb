{
 "cells": [
  {
   "cell_type": "markdown",
   "metadata": {},
   "source": [
    "## View shell scripts for managing Kafka via Docker\n",
    "### The scripts are on the PATH"
   ]
  },
  {
   "cell_type": "code",
   "execution_count": 1,
   "metadata": {},
   "outputs": [
    {
     "name": "stdout",
     "output_type": "stream",
     "text": [
      "../bin/start_full.sh\t       ../bin/stop_full.sh\r\n",
      "../bin/start_one_broker.sh     ../bin/stop_one_broker.sh\r\n",
      "../bin/start_three_brokers.sh  ../bin/stop_three_brokers.sh\r\n"
     ]
    }
   ],
   "source": [
    "!ls ../bin/*.sh"
   ]
  },
  {
   "cell_type": "markdown",
   "metadata": {},
   "source": [
    "## Start Kafka with one broker and one Zookeeper node"
   ]
  },
  {
   "cell_type": "code",
   "execution_count": 2,
   "metadata": {},
   "outputs": [
    {
     "name": "stdout",
     "output_type": "stream",
     "text": [
      "Starting zookeeper1      ... \n",
      "Starting kafka1_broker_1 ... \n",
      "\u001b[1Bting kafka1_broker_1 ... \u001b[32mdone\u001b[0m\u001b[1A\u001b[2K"
     ]
    }
   ],
   "source": [
    "!start_one_broker.sh"
   ]
  },
  {
   "cell_type": "markdown",
   "metadata": {},
   "source": [
    "## View the Docker containers\n",
    "### Note the ports used for kafka1_broker_1\n",
    "### In particular, port 9092 is the bootstrap-server port"
   ]
  },
  {
   "cell_type": "code",
   "execution_count": 3,
   "metadata": {},
   "outputs": [
    {
     "name": "stdout",
     "output_type": "stream",
     "text": [
      "CONTAINER ID   IMAGE                             COMMAND                  CREATED      STATUS         PORTS                                                                                                                                 NAMES\r\n",
      "5610b3dba8c9   confluentinc/cp-kafka:7.0.1       \"/etc/confluent/dock…\"   7 days ago   Up 8 seconds   0.0.0.0:9092->9092/tcp, :::9092->9092/tcp, 0.0.0.0:9101->9101/tcp, :::9101->9101/tcp, 0.0.0.0:29092->29092/tcp, :::29092->29092/tcp   kafka1_broker_1\r\n",
      "2a971316e21f   confluentinc/cp-zookeeper:7.0.1   \"/etc/confluent/dock…\"   7 days ago   Up 9 seconds   2888/tcp, 0.0.0.0:2181->2181/tcp, :::2181->2181/tcp, 3888/tcp                                                                         zookeeper1\r\n"
     ]
    }
   ],
   "source": [
    "!docker ps"
   ]
  },
  {
   "cell_type": "markdown",
   "metadata": {},
   "source": [
    "## View the commands available with Kafka"
   ]
  },
  {
   "cell_type": "code",
   "execution_count": 4,
   "metadata": {},
   "outputs": [
    {
     "name": "stdout",
     "output_type": "stream",
     "text": [
      "connect-distributed.sh\t      kafka-mirror-maker.sh\r\n",
      "connect-mirror-maker.sh       kafka-producer-perf-test.sh\r\n",
      "connect-standalone.sh\t      kafka-reassign-partitions.sh\r\n",
      "kafka-acls.sh\t\t      kafka-replica-verification.sh\r\n",
      "kafka-broker-api-versions.sh  kafka-run-class.sh\r\n",
      "kafka-cluster.sh\t      kafka-server-start.sh\r\n",
      "kafka-configs.sh\t      kafka-server-stop.sh\r\n",
      "kafka-console-consumer.sh     kafka-storage.sh\r\n",
      "kafka-console-producer.sh     kafka-streams-application-reset.sh\r\n",
      "kafka-consumer-groups.sh      kafka-topics.sh\r\n",
      "kafka-consumer-perf-test.sh   kafka-transactions.sh\r\n",
      "kafka-delegation-tokens.sh    kafka-verifiable-consumer.sh\r\n",
      "kafka-delete-records.sh       kafka-verifiable-producer.sh\r\n",
      "kafka-dump-log.sh\t      trogdor.sh\r\n",
      "kafka-features.sh\t      windows\r\n",
      "kafka-get-offsets.sh\t      zookeeper-security-migration.sh\r\n",
      "kafka-leader-election.sh      zookeeper-server-start.sh\r\n",
      "kafka-log-dirs.sh\t      zookeeper-server-stop.sh\r\n",
      "kafka-metadata-shell.sh       zookeeper-shell.sh\r\n"
     ]
    }
   ],
   "source": [
    "!ls $KAFKA_HOME/bin"
   ]
  },
  {
   "cell_type": "markdown",
   "metadata": {},
   "source": [
    "## Kafka is a destributed event streaming platform\n",
    "### Events are also known as records or messages\n",
    "### Kafka brokers store events\n",
    "### Events are stored in topics\n",
    "### At least one topic must exist before messages can be written to Kafka"
   ]
  },
  {
   "cell_type": "markdown",
   "metadata": {},
   "source": [
    "## List the current topics\n",
    "### There should be no topics"
   ]
  },
  {
   "cell_type": "code",
   "execution_count": 5,
   "metadata": {},
   "outputs": [
    {
     "name": "stdout",
     "output_type": "stream",
     "text": [
      "quickstart-events\r\n"
     ]
    }
   ],
   "source": [
    "!kafka-topics.sh --list --bootstrap-server localhost:9092"
   ]
  },
  {
   "cell_type": "markdown",
   "metadata": {},
   "source": [
    "## Create one topic"
   ]
  },
  {
   "cell_type": "code",
   "execution_count": 6,
   "metadata": {},
   "outputs": [
    {
     "name": "stdout",
     "output_type": "stream",
     "text": [
      "WARNING: Due to limitations in metric names, topics with a period ('.') or underscore ('_') could collide. To avoid issues it is best to use either, but not both.\n",
      "Created topic team_notices.\n"
     ]
    }
   ],
   "source": [
    "!kafka-topics.sh --create \\\n",
    "                 --topic team_notices \\\n",
    "                 --bootstrap-server localhost:9092"
   ]
  },
  {
   "cell_type": "markdown",
   "metadata": {},
   "source": [
    "## List the current topics\n",
    "### There should be one topic"
   ]
  },
  {
   "cell_type": "code",
   "execution_count": 7,
   "metadata": {},
   "outputs": [
    {
     "name": "stdout",
     "output_type": "stream",
     "text": [
      "quickstart-events\r\n",
      "team_notices\r\n"
     ]
    }
   ],
   "source": [
    "!kafka-topics.sh --list --bootstrap-server localhost:9092"
   ]
  },
  {
   "cell_type": "markdown",
   "metadata": {},
   "source": [
    "## Delete the topic\n"
   ]
  },
  {
   "cell_type": "code",
   "execution_count": 8,
   "metadata": {},
   "outputs": [],
   "source": [
    "!kafka-topics.sh --delete \\\n",
    "                 --topic team_notices \\\n",
    "                 --bootstrap-server localhost:9092"
   ]
  },
  {
   "cell_type": "markdown",
   "metadata": {},
   "source": [
    "## List the current topics"
   ]
  },
  {
   "cell_type": "code",
   "execution_count": 9,
   "metadata": {},
   "outputs": [
    {
     "name": "stdout",
     "output_type": "stream",
     "text": [
      "quickstart-events\r\n"
     ]
    }
   ],
   "source": [
    "!kafka-topics.sh --list --bootstrap-server localhost:9092"
   ]
  },
  {
   "cell_type": "markdown",
   "metadata": {},
   "source": [
    "## Stop Kafka"
   ]
  },
  {
   "cell_type": "code",
   "execution_count": 10,
   "metadata": {},
   "outputs": [
    {
     "name": "stdout",
     "output_type": "stream",
     "text": [
      "Stopping kafka1_broker_1 ... \n",
      "Stopping zookeeper1      ... \n",
      "\u001b[1Bping zookeeper1      ... \u001b[32mdone\u001b[0m\u001b[1A\u001b[2K"
     ]
    }
   ],
   "source": [
    "!stop_one_broker.sh"
   ]
  }
 ],
 "metadata": {
  "kernelspec": {
   "display_name": "Python 3 (ipykernel)",
   "language": "python",
   "name": "python3"
  },
  "language_info": {
   "codemirror_mode": {
    "name": "ipython",
    "version": 3
   },
   "file_extension": ".py",
   "mimetype": "text/x-python",
   "name": "python",
   "nbconvert_exporter": "python",
   "pygments_lexer": "ipython3",
   "version": "3.8.10"
  }
 },
 "nbformat": 4,
 "nbformat_minor": 2
}
