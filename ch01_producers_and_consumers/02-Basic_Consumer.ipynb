{
 "cells": [
  {
   "cell_type": "code",
   "execution_count": 1,
   "metadata": {},
   "outputs": [
    {
     "name": "stdout",
     "output_type": "stream",
     "text": [
      "python_test\r\n"
     ]
    }
   ],
   "source": [
    "!kafka-topics.sh --list --bootstrap-server localhost:9092"
   ]
  },
  {
   "cell_type": "code",
   "execution_count": 2,
   "metadata": {},
   "outputs": [],
   "source": [
    "from kafka import KafkaConsumer"
   ]
  },
  {
   "cell_type": "code",
   "execution_count": 3,
   "metadata": {},
   "outputs": [],
   "source": [
    "consumer = KafkaConsumer('python_test')"
   ]
  },
  {
   "cell_type": "code",
   "execution_count": 4,
   "metadata": {},
   "outputs": [
    {
     "name": "stdout",
     "output_type": "stream",
     "text": [
      "consumer =  <kafka.consumer.group.KafkaConsumer object at 0x7f90247224e0>\n"
     ]
    }
   ],
   "source": [
    "print(\"consumer = \", consumer)"
   ]
  },
  {
   "cell_type": "code",
   "execution_count": null,
   "metadata": {},
   "outputs": [
    {
     "name": "stdout",
     "output_type": "stream",
     "text": [
      "ConsumerRecord(topic='python_test', partition=0, offset=700, timestamp=1644363242492, timestamp_type=0, key=None, value=b'This is an event 0', headers=[], checksum=None, serialized_key_size=-1, serialized_value_size=18, serialized_header_size=-1)\n",
      "ConsumerRecord(topic='python_test', partition=0, offset=701, timestamp=1644363242493, timestamp_type=0, key=None, value=b'This is an event 1', headers=[], checksum=None, serialized_key_size=-1, serialized_value_size=18, serialized_header_size=-1)\n",
      "ConsumerRecord(topic='python_test', partition=0, offset=702, timestamp=1644363242493, timestamp_type=0, key=None, value=b'This is an event 2', headers=[], checksum=None, serialized_key_size=-1, serialized_value_size=18, serialized_header_size=-1)\n",
      "ConsumerRecord(topic='python_test', partition=0, offset=703, timestamp=1644363242493, timestamp_type=0, key=None, value=b'This is an event 3', headers=[], checksum=None, serialized_key_size=-1, serialized_value_size=18, serialized_header_size=-1)\n",
      "ConsumerRecord(topic='python_test', partition=0, offset=704, timestamp=1644363242493, timestamp_type=0, key=None, value=b'This is an event 4', headers=[], checksum=None, serialized_key_size=-1, serialized_value_size=18, serialized_header_size=-1)\n",
      "ConsumerRecord(topic='python_test', partition=0, offset=705, timestamp=1644363242493, timestamp_type=0, key=None, value=b'This is an event 5', headers=[], checksum=None, serialized_key_size=-1, serialized_value_size=18, serialized_header_size=-1)\n",
      "ConsumerRecord(topic='python_test', partition=0, offset=706, timestamp=1644363242493, timestamp_type=0, key=None, value=b'This is an event 6', headers=[], checksum=None, serialized_key_size=-1, serialized_value_size=18, serialized_header_size=-1)\n",
      "ConsumerRecord(topic='python_test', partition=0, offset=707, timestamp=1644363242499, timestamp_type=0, key=None, value=b'This is an event 7', headers=[], checksum=None, serialized_key_size=-1, serialized_value_size=18, serialized_header_size=-1)\n",
      "ConsumerRecord(topic='python_test', partition=0, offset=708, timestamp=1644363242499, timestamp_type=0, key=None, value=b'This is an event 8', headers=[], checksum=None, serialized_key_size=-1, serialized_value_size=18, serialized_header_size=-1)\n",
      "ConsumerRecord(topic='python_test', partition=0, offset=709, timestamp=1644363242499, timestamp_type=0, key=None, value=b'This is an event 9', headers=[], checksum=None, serialized_key_size=-1, serialized_value_size=18, serialized_header_size=-1)\n",
      "ConsumerRecord(topic='python_test', partition=0, offset=710, timestamp=1644363242499, timestamp_type=0, key=None, value=b'This is an event 10', headers=[], checksum=None, serialized_key_size=-1, serialized_value_size=19, serialized_header_size=-1)\n",
      "ConsumerRecord(topic='python_test', partition=0, offset=711, timestamp=1644363242499, timestamp_type=0, key=None, value=b'This is an event 11', headers=[], checksum=None, serialized_key_size=-1, serialized_value_size=19, serialized_header_size=-1)\n",
      "ConsumerRecord(topic='python_test', partition=0, offset=712, timestamp=1644363242499, timestamp_type=0, key=None, value=b'This is an event 12', headers=[], checksum=None, serialized_key_size=-1, serialized_value_size=19, serialized_header_size=-1)\n",
      "ConsumerRecord(topic='python_test', partition=0, offset=713, timestamp=1644363242499, timestamp_type=0, key=None, value=b'This is an event 13', headers=[], checksum=None, serialized_key_size=-1, serialized_value_size=19, serialized_header_size=-1)\n",
      "ConsumerRecord(topic='python_test', partition=0, offset=714, timestamp=1644363242499, timestamp_type=0, key=None, value=b'This is an event 14', headers=[], checksum=None, serialized_key_size=-1, serialized_value_size=19, serialized_header_size=-1)\n",
      "ConsumerRecord(topic='python_test', partition=0, offset=715, timestamp=1644363242499, timestamp_type=0, key=None, value=b'This is an event 15', headers=[], checksum=None, serialized_key_size=-1, serialized_value_size=19, serialized_header_size=-1)\n",
      "ConsumerRecord(topic='python_test', partition=0, offset=716, timestamp=1644363242499, timestamp_type=0, key=None, value=b'This is an event 16', headers=[], checksum=None, serialized_key_size=-1, serialized_value_size=19, serialized_header_size=-1)\n",
      "ConsumerRecord(topic='python_test', partition=0, offset=717, timestamp=1644363242499, timestamp_type=0, key=None, value=b'This is an event 17', headers=[], checksum=None, serialized_key_size=-1, serialized_value_size=19, serialized_header_size=-1)\n",
      "ConsumerRecord(topic='python_test', partition=0, offset=718, timestamp=1644363242499, timestamp_type=0, key=None, value=b'This is an event 18', headers=[], checksum=None, serialized_key_size=-1, serialized_value_size=19, serialized_header_size=-1)\n",
      "ConsumerRecord(topic='python_test', partition=0, offset=719, timestamp=1644363242499, timestamp_type=0, key=None, value=b'This is an event 19', headers=[], checksum=None, serialized_key_size=-1, serialized_value_size=19, serialized_header_size=-1)\n",
      "ConsumerRecord(topic='python_test', partition=0, offset=720, timestamp=1644363242499, timestamp_type=0, key=None, value=b'This is an event 20', headers=[], checksum=None, serialized_key_size=-1, serialized_value_size=19, serialized_header_size=-1)\n",
      "ConsumerRecord(topic='python_test', partition=0, offset=721, timestamp=1644363242500, timestamp_type=0, key=None, value=b'This is an event 21', headers=[], checksum=None, serialized_key_size=-1, serialized_value_size=19, serialized_header_size=-1)\n",
      "ConsumerRecord(topic='python_test', partition=0, offset=722, timestamp=1644363242500, timestamp_type=0, key=None, value=b'This is an event 22', headers=[], checksum=None, serialized_key_size=-1, serialized_value_size=19, serialized_header_size=-1)\n",
      "ConsumerRecord(topic='python_test', partition=0, offset=723, timestamp=1644363242500, timestamp_type=0, key=None, value=b'This is an event 23', headers=[], checksum=None, serialized_key_size=-1, serialized_value_size=19, serialized_header_size=-1)\n",
      "ConsumerRecord(topic='python_test', partition=0, offset=724, timestamp=1644363242500, timestamp_type=0, key=None, value=b'This is an event 24', headers=[], checksum=None, serialized_key_size=-1, serialized_value_size=19, serialized_header_size=-1)\n",
      "ConsumerRecord(topic='python_test', partition=0, offset=725, timestamp=1644363242500, timestamp_type=0, key=None, value=b'This is an event 25', headers=[], checksum=None, serialized_key_size=-1, serialized_value_size=19, serialized_header_size=-1)\n",
      "ConsumerRecord(topic='python_test', partition=0, offset=726, timestamp=1644363242500, timestamp_type=0, key=None, value=b'This is an event 26', headers=[], checksum=None, serialized_key_size=-1, serialized_value_size=19, serialized_header_size=-1)\n",
      "ConsumerRecord(topic='python_test', partition=0, offset=727, timestamp=1644363242500, timestamp_type=0, key=None, value=b'This is an event 27', headers=[], checksum=None, serialized_key_size=-1, serialized_value_size=19, serialized_header_size=-1)\n",
      "ConsumerRecord(topic='python_test', partition=0, offset=728, timestamp=1644363242500, timestamp_type=0, key=None, value=b'This is an event 28', headers=[], checksum=None, serialized_key_size=-1, serialized_value_size=19, serialized_header_size=-1)\n",
      "ConsumerRecord(topic='python_test', partition=0, offset=729, timestamp=1644363242500, timestamp_type=0, key=None, value=b'This is an event 29', headers=[], checksum=None, serialized_key_size=-1, serialized_value_size=19, serialized_header_size=-1)\n",
      "ConsumerRecord(topic='python_test', partition=0, offset=730, timestamp=1644363242500, timestamp_type=0, key=None, value=b'This is an event 30', headers=[], checksum=None, serialized_key_size=-1, serialized_value_size=19, serialized_header_size=-1)\n",
      "ConsumerRecord(topic='python_test', partition=0, offset=731, timestamp=1644363242500, timestamp_type=0, key=None, value=b'This is an event 31', headers=[], checksum=None, serialized_key_size=-1, serialized_value_size=19, serialized_header_size=-1)\n",
      "ConsumerRecord(topic='python_test', partition=0, offset=732, timestamp=1644363242500, timestamp_type=0, key=None, value=b'This is an event 32', headers=[], checksum=None, serialized_key_size=-1, serialized_value_size=19, serialized_header_size=-1)\n",
      "ConsumerRecord(topic='python_test', partition=0, offset=733, timestamp=1644363242500, timestamp_type=0, key=None, value=b'This is an event 33', headers=[], checksum=None, serialized_key_size=-1, serialized_value_size=19, serialized_header_size=-1)\n",
      "ConsumerRecord(topic='python_test', partition=0, offset=734, timestamp=1644363242500, timestamp_type=0, key=None, value=b'This is an event 34', headers=[], checksum=None, serialized_key_size=-1, serialized_value_size=19, serialized_header_size=-1)\n",
      "ConsumerRecord(topic='python_test', partition=0, offset=735, timestamp=1644363242500, timestamp_type=0, key=None, value=b'This is an event 35', headers=[], checksum=None, serialized_key_size=-1, serialized_value_size=19, serialized_header_size=-1)\n",
      "ConsumerRecord(topic='python_test', partition=0, offset=736, timestamp=1644363242500, timestamp_type=0, key=None, value=b'This is an event 36', headers=[], checksum=None, serialized_key_size=-1, serialized_value_size=19, serialized_header_size=-1)\n",
      "ConsumerRecord(topic='python_test', partition=0, offset=737, timestamp=1644363242500, timestamp_type=0, key=None, value=b'This is an event 37', headers=[], checksum=None, serialized_key_size=-1, serialized_value_size=19, serialized_header_size=-1)\n",
      "ConsumerRecord(topic='python_test', partition=0, offset=738, timestamp=1644363242500, timestamp_type=0, key=None, value=b'This is an event 38', headers=[], checksum=None, serialized_key_size=-1, serialized_value_size=19, serialized_header_size=-1)\n",
      "ConsumerRecord(topic='python_test', partition=0, offset=739, timestamp=1644363242500, timestamp_type=0, key=None, value=b'This is an event 39', headers=[], checksum=None, serialized_key_size=-1, serialized_value_size=19, serialized_header_size=-1)\n",
      "ConsumerRecord(topic='python_test', partition=0, offset=740, timestamp=1644363242500, timestamp_type=0, key=None, value=b'This is an event 40', headers=[], checksum=None, serialized_key_size=-1, serialized_value_size=19, serialized_header_size=-1)\n",
      "ConsumerRecord(topic='python_test', partition=0, offset=741, timestamp=1644363242500, timestamp_type=0, key=None, value=b'This is an event 41', headers=[], checksum=None, serialized_key_size=-1, serialized_value_size=19, serialized_header_size=-1)\n",
      "ConsumerRecord(topic='python_test', partition=0, offset=742, timestamp=1644363242500, timestamp_type=0, key=None, value=b'This is an event 42', headers=[], checksum=None, serialized_key_size=-1, serialized_value_size=19, serialized_header_size=-1)\n",
      "ConsumerRecord(topic='python_test', partition=0, offset=743, timestamp=1644363242500, timestamp_type=0, key=None, value=b'This is an event 43', headers=[], checksum=None, serialized_key_size=-1, serialized_value_size=19, serialized_header_size=-1)\n",
      "ConsumerRecord(topic='python_test', partition=0, offset=744, timestamp=1644363242500, timestamp_type=0, key=None, value=b'This is an event 44', headers=[], checksum=None, serialized_key_size=-1, serialized_value_size=19, serialized_header_size=-1)\n",
      "ConsumerRecord(topic='python_test', partition=0, offset=745, timestamp=1644363242500, timestamp_type=0, key=None, value=b'This is an event 45', headers=[], checksum=None, serialized_key_size=-1, serialized_value_size=19, serialized_header_size=-1)\n",
      "ConsumerRecord(topic='python_test', partition=0, offset=746, timestamp=1644363242501, timestamp_type=0, key=None, value=b'This is an event 46', headers=[], checksum=None, serialized_key_size=-1, serialized_value_size=19, serialized_header_size=-1)\n",
      "ConsumerRecord(topic='python_test', partition=0, offset=747, timestamp=1644363242501, timestamp_type=0, key=None, value=b'This is an event 47', headers=[], checksum=None, serialized_key_size=-1, serialized_value_size=19, serialized_header_size=-1)\n",
      "ConsumerRecord(topic='python_test', partition=0, offset=748, timestamp=1644363242501, timestamp_type=0, key=None, value=b'This is an event 48', headers=[], checksum=None, serialized_key_size=-1, serialized_value_size=19, serialized_header_size=-1)\n",
      "ConsumerRecord(topic='python_test', partition=0, offset=749, timestamp=1644363242501, timestamp_type=0, key=None, value=b'This is an event 49', headers=[], checksum=None, serialized_key_size=-1, serialized_value_size=19, serialized_header_size=-1)\n",
      "ConsumerRecord(topic='python_test', partition=0, offset=750, timestamp=1644363242501, timestamp_type=0, key=None, value=b'This is an event 50', headers=[], checksum=None, serialized_key_size=-1, serialized_value_size=19, serialized_header_size=-1)\n",
      "ConsumerRecord(topic='python_test', partition=0, offset=751, timestamp=1644363242501, timestamp_type=0, key=None, value=b'This is an event 51', headers=[], checksum=None, serialized_key_size=-1, serialized_value_size=19, serialized_header_size=-1)\n",
      "ConsumerRecord(topic='python_test', partition=0, offset=752, timestamp=1644363242501, timestamp_type=0, key=None, value=b'This is an event 52', headers=[], checksum=None, serialized_key_size=-1, serialized_value_size=19, serialized_header_size=-1)\n",
      "ConsumerRecord(topic='python_test', partition=0, offset=753, timestamp=1644363242501, timestamp_type=0, key=None, value=b'This is an event 53', headers=[], checksum=None, serialized_key_size=-1, serialized_value_size=19, serialized_header_size=-1)\n",
      "ConsumerRecord(topic='python_test', partition=0, offset=754, timestamp=1644363242501, timestamp_type=0, key=None, value=b'This is an event 54', headers=[], checksum=None, serialized_key_size=-1, serialized_value_size=19, serialized_header_size=-1)\n",
      "ConsumerRecord(topic='python_test', partition=0, offset=755, timestamp=1644363242501, timestamp_type=0, key=None, value=b'This is an event 55', headers=[], checksum=None, serialized_key_size=-1, serialized_value_size=19, serialized_header_size=-1)\n",
      "ConsumerRecord(topic='python_test', partition=0, offset=756, timestamp=1644363242501, timestamp_type=0, key=None, value=b'This is an event 56', headers=[], checksum=None, serialized_key_size=-1, serialized_value_size=19, serialized_header_size=-1)\n",
      "ConsumerRecord(topic='python_test', partition=0, offset=757, timestamp=1644363242501, timestamp_type=0, key=None, value=b'This is an event 57', headers=[], checksum=None, serialized_key_size=-1, serialized_value_size=19, serialized_header_size=-1)\n",
      "ConsumerRecord(topic='python_test', partition=0, offset=758, timestamp=1644363242501, timestamp_type=0, key=None, value=b'This is an event 58', headers=[], checksum=None, serialized_key_size=-1, serialized_value_size=19, serialized_header_size=-1)\n",
      "ConsumerRecord(topic='python_test', partition=0, offset=759, timestamp=1644363242501, timestamp_type=0, key=None, value=b'This is an event 59', headers=[], checksum=None, serialized_key_size=-1, serialized_value_size=19, serialized_header_size=-1)\n",
      "ConsumerRecord(topic='python_test', partition=0, offset=760, timestamp=1644363242501, timestamp_type=0, key=None, value=b'This is an event 60', headers=[], checksum=None, serialized_key_size=-1, serialized_value_size=19, serialized_header_size=-1)\n",
      "ConsumerRecord(topic='python_test', partition=0, offset=761, timestamp=1644363242501, timestamp_type=0, key=None, value=b'This is an event 61', headers=[], checksum=None, serialized_key_size=-1, serialized_value_size=19, serialized_header_size=-1)\n",
      "ConsumerRecord(topic='python_test', partition=0, offset=762, timestamp=1644363242501, timestamp_type=0, key=None, value=b'This is an event 62', headers=[], checksum=None, serialized_key_size=-1, serialized_value_size=19, serialized_header_size=-1)\n",
      "ConsumerRecord(topic='python_test', partition=0, offset=763, timestamp=1644363242501, timestamp_type=0, key=None, value=b'This is an event 63', headers=[], checksum=None, serialized_key_size=-1, serialized_value_size=19, serialized_header_size=-1)\n",
      "ConsumerRecord(topic='python_test', partition=0, offset=764, timestamp=1644363242501, timestamp_type=0, key=None, value=b'This is an event 64', headers=[], checksum=None, serialized_key_size=-1, serialized_value_size=19, serialized_header_size=-1)\n",
      "ConsumerRecord(topic='python_test', partition=0, offset=765, timestamp=1644363242501, timestamp_type=0, key=None, value=b'This is an event 65', headers=[], checksum=None, serialized_key_size=-1, serialized_value_size=19, serialized_header_size=-1)\n",
      "ConsumerRecord(topic='python_test', partition=0, offset=766, timestamp=1644363242501, timestamp_type=0, key=None, value=b'This is an event 66', headers=[], checksum=None, serialized_key_size=-1, serialized_value_size=19, serialized_header_size=-1)\n",
      "ConsumerRecord(topic='python_test', partition=0, offset=767, timestamp=1644363242501, timestamp_type=0, key=None, value=b'This is an event 67', headers=[], checksum=None, serialized_key_size=-1, serialized_value_size=19, serialized_header_size=-1)\n",
      "ConsumerRecord(topic='python_test', partition=0, offset=768, timestamp=1644363242501, timestamp_type=0, key=None, value=b'This is an event 68', headers=[], checksum=None, serialized_key_size=-1, serialized_value_size=19, serialized_header_size=-1)\n",
      "ConsumerRecord(topic='python_test', partition=0, offset=769, timestamp=1644363242501, timestamp_type=0, key=None, value=b'This is an event 69', headers=[], checksum=None, serialized_key_size=-1, serialized_value_size=19, serialized_header_size=-1)\n",
      "ConsumerRecord(topic='python_test', partition=0, offset=770, timestamp=1644363242501, timestamp_type=0, key=None, value=b'This is an event 70', headers=[], checksum=None, serialized_key_size=-1, serialized_value_size=19, serialized_header_size=-1)\n",
      "ConsumerRecord(topic='python_test', partition=0, offset=771, timestamp=1644363242501, timestamp_type=0, key=None, value=b'This is an event 71', headers=[], checksum=None, serialized_key_size=-1, serialized_value_size=19, serialized_header_size=-1)\n",
      "ConsumerRecord(topic='python_test', partition=0, offset=772, timestamp=1644363242501, timestamp_type=0, key=None, value=b'This is an event 72', headers=[], checksum=None, serialized_key_size=-1, serialized_value_size=19, serialized_header_size=-1)\n",
      "ConsumerRecord(topic='python_test', partition=0, offset=773, timestamp=1644363242502, timestamp_type=0, key=None, value=b'This is an event 73', headers=[], checksum=None, serialized_key_size=-1, serialized_value_size=19, serialized_header_size=-1)\n",
      "ConsumerRecord(topic='python_test', partition=0, offset=774, timestamp=1644363242502, timestamp_type=0, key=None, value=b'This is an event 74', headers=[], checksum=None, serialized_key_size=-1, serialized_value_size=19, serialized_header_size=-1)\n",
      "ConsumerRecord(topic='python_test', partition=0, offset=775, timestamp=1644363242502, timestamp_type=0, key=None, value=b'This is an event 75', headers=[], checksum=None, serialized_key_size=-1, serialized_value_size=19, serialized_header_size=-1)\n",
      "ConsumerRecord(topic='python_test', partition=0, offset=776, timestamp=1644363242502, timestamp_type=0, key=None, value=b'This is an event 76', headers=[], checksum=None, serialized_key_size=-1, serialized_value_size=19, serialized_header_size=-1)\n",
      "ConsumerRecord(topic='python_test', partition=0, offset=777, timestamp=1644363242502, timestamp_type=0, key=None, value=b'This is an event 77', headers=[], checksum=None, serialized_key_size=-1, serialized_value_size=19, serialized_header_size=-1)\n",
      "ConsumerRecord(topic='python_test', partition=0, offset=778, timestamp=1644363242502, timestamp_type=0, key=None, value=b'This is an event 78', headers=[], checksum=None, serialized_key_size=-1, serialized_value_size=19, serialized_header_size=-1)\n",
      "ConsumerRecord(topic='python_test', partition=0, offset=779, timestamp=1644363242502, timestamp_type=0, key=None, value=b'This is an event 79', headers=[], checksum=None, serialized_key_size=-1, serialized_value_size=19, serialized_header_size=-1)\n",
      "ConsumerRecord(topic='python_test', partition=0, offset=780, timestamp=1644363242502, timestamp_type=0, key=None, value=b'This is an event 80', headers=[], checksum=None, serialized_key_size=-1, serialized_value_size=19, serialized_header_size=-1)\n",
      "ConsumerRecord(topic='python_test', partition=0, offset=781, timestamp=1644363242502, timestamp_type=0, key=None, value=b'This is an event 81', headers=[], checksum=None, serialized_key_size=-1, serialized_value_size=19, serialized_header_size=-1)\n",
      "ConsumerRecord(topic='python_test', partition=0, offset=782, timestamp=1644363242502, timestamp_type=0, key=None, value=b'This is an event 82', headers=[], checksum=None, serialized_key_size=-1, serialized_value_size=19, serialized_header_size=-1)\n",
      "ConsumerRecord(topic='python_test', partition=0, offset=783, timestamp=1644363242502, timestamp_type=0, key=None, value=b'This is an event 83', headers=[], checksum=None, serialized_key_size=-1, serialized_value_size=19, serialized_header_size=-1)\n",
      "ConsumerRecord(topic='python_test', partition=0, offset=784, timestamp=1644363242502, timestamp_type=0, key=None, value=b'This is an event 84', headers=[], checksum=None, serialized_key_size=-1, serialized_value_size=19, serialized_header_size=-1)\n",
      "ConsumerRecord(topic='python_test', partition=0, offset=785, timestamp=1644363242502, timestamp_type=0, key=None, value=b'This is an event 85', headers=[], checksum=None, serialized_key_size=-1, serialized_value_size=19, serialized_header_size=-1)\n",
      "ConsumerRecord(topic='python_test', partition=0, offset=786, timestamp=1644363242502, timestamp_type=0, key=None, value=b'This is an event 86', headers=[], checksum=None, serialized_key_size=-1, serialized_value_size=19, serialized_header_size=-1)\n",
      "ConsumerRecord(topic='python_test', partition=0, offset=787, timestamp=1644363242502, timestamp_type=0, key=None, value=b'This is an event 87', headers=[], checksum=None, serialized_key_size=-1, serialized_value_size=19, serialized_header_size=-1)\n",
      "ConsumerRecord(topic='python_test', partition=0, offset=788, timestamp=1644363242502, timestamp_type=0, key=None, value=b'This is an event 88', headers=[], checksum=None, serialized_key_size=-1, serialized_value_size=19, serialized_header_size=-1)\n",
      "ConsumerRecord(topic='python_test', partition=0, offset=789, timestamp=1644363242502, timestamp_type=0, key=None, value=b'This is an event 89', headers=[], checksum=None, serialized_key_size=-1, serialized_value_size=19, serialized_header_size=-1)\n",
      "ConsumerRecord(topic='python_test', partition=0, offset=790, timestamp=1644363242502, timestamp_type=0, key=None, value=b'This is an event 90', headers=[], checksum=None, serialized_key_size=-1, serialized_value_size=19, serialized_header_size=-1)\n",
      "ConsumerRecord(topic='python_test', partition=0, offset=791, timestamp=1644363242502, timestamp_type=0, key=None, value=b'This is an event 91', headers=[], checksum=None, serialized_key_size=-1, serialized_value_size=19, serialized_header_size=-1)\n",
      "ConsumerRecord(topic='python_test', partition=0, offset=792, timestamp=1644363242502, timestamp_type=0, key=None, value=b'This is an event 92', headers=[], checksum=None, serialized_key_size=-1, serialized_value_size=19, serialized_header_size=-1)\n",
      "ConsumerRecord(topic='python_test', partition=0, offset=793, timestamp=1644363242502, timestamp_type=0, key=None, value=b'This is an event 93', headers=[], checksum=None, serialized_key_size=-1, serialized_value_size=19, serialized_header_size=-1)\n",
      "ConsumerRecord(topic='python_test', partition=0, offset=794, timestamp=1644363242502, timestamp_type=0, key=None, value=b'This is an event 94', headers=[], checksum=None, serialized_key_size=-1, serialized_value_size=19, serialized_header_size=-1)\n",
      "ConsumerRecord(topic='python_test', partition=0, offset=795, timestamp=1644363242502, timestamp_type=0, key=None, value=b'This is an event 95', headers=[], checksum=None, serialized_key_size=-1, serialized_value_size=19, serialized_header_size=-1)\n",
      "ConsumerRecord(topic='python_test', partition=0, offset=796, timestamp=1644363242502, timestamp_type=0, key=None, value=b'This is an event 96', headers=[], checksum=None, serialized_key_size=-1, serialized_value_size=19, serialized_header_size=-1)\n",
      "ConsumerRecord(topic='python_test', partition=0, offset=797, timestamp=1644363242502, timestamp_type=0, key=None, value=b'This is an event 97', headers=[], checksum=None, serialized_key_size=-1, serialized_value_size=19, serialized_header_size=-1)\n",
      "ConsumerRecord(topic='python_test', partition=0, offset=798, timestamp=1644363242502, timestamp_type=0, key=None, value=b'This is an event 98', headers=[], checksum=None, serialized_key_size=-1, serialized_value_size=19, serialized_header_size=-1)\n",
      "ConsumerRecord(topic='python_test', partition=0, offset=799, timestamp=1644363242502, timestamp_type=0, key=None, value=b'This is an event 99', headers=[], checksum=None, serialized_key_size=-1, serialized_value_size=19, serialized_header_size=-1)\n"
     ]
    }
   ],
   "source": [
    "for event in consumer:\n",
    "   print(event)"
   ]
  }
 ],
 "metadata": {
  "kernelspec": {
   "display_name": "Python 3",
   "language": "python",
   "name": "python3"
  },
  "language_info": {
   "codemirror_mode": {
    "name": "ipython",
    "version": 3
   },
   "file_extension": ".py",
   "mimetype": "text/x-python",
   "name": "python",
   "nbconvert_exporter": "python",
   "pygments_lexer": "ipython3",
   "version": "3.6.9"
  }
 },
 "nbformat": 4,
 "nbformat_minor": 2
}
